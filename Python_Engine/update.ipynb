{
 "cells": [
  {
   "cell_type": "code",
   "execution_count": 59,
   "metadata": {},
   "outputs": [],
   "source": [
    "# imports \n",
    "import pandas as pd\n",
    "import numpy as np\n",
    "import json\n",
    "import requests\n",
    "from sklearn.feature_extraction.text import TfidfVectorizer\n",
    "from sklearn.metrics.pairwise import cosine_similarity\n",
    "import joblib"
   ]
  },
  {
   "cell_type": "code",
   "execution_count": 3,
   "metadata": {},
   "outputs": [],
   "source": [
    "# loading previous data\n",
    "org_data = pd.read_csv(\"data/processed_data.csv\")"
   ]
  },
  {
   "cell_type": "code",
   "execution_count": 34,
   "metadata": {},
   "outputs": [],
   "source": [
    "org_data.drop(columns=['id'], axis=1, inplace=True)"
   ]
  },
  {
   "cell_type": "code",
   "execution_count": 44,
   "metadata": {},
   "outputs": [],
   "source": [
    "# getting new data from newsapi and processing it \n",
    "\n",
    "# news api url\n",
    "URL = \"https://newsapi.org/v2/everything?\"\n",
    "\n",
    "# reading links file\n",
    "links = pd.read_csv(\"data/links.csv\")\n",
    "\n",
    "#creating a dataframe\n",
    "dataset = pd.DataFrame()\n",
    "\n",
    "# getting data from each link\n",
    "for link_item in links['links'].values:\n",
    "\n",
    "    # parameters for request\n",
    "    PARAMS = {\n",
    "    'domains': f\"{link_item}\",\n",
    "    'apikey' : \"31a644adf7964db285900d5fc0cd2f30\"\n",
    "    }\n",
    "\n",
    "    # sending get request and saving the response as response object\n",
    "    r = requests.get(url = URL, params = PARAMS)\n",
    "    \n",
    "    # extracting data in json format\n",
    "    data = r.json()\n",
    "    if 'totalResults' in data.keys():    \n",
    "        if data[\"totalResults\"] > 1:\n",
    "            json_data = pd.read_json(json.dumps(data))\n",
    "            dict_df = pd.json_normalize(json_data['articles'])\n",
    "            dataset = pd.concat([dataset, dict_df], ignore_index=True)\n",
    "    else:\n",
    "        continue"
   ]
  },
  {
   "cell_type": "code",
   "execution_count": 47,
   "metadata": {},
   "outputs": [
    {
     "data": {
      "text/plain": [
       "(5576, 7)"
      ]
     },
     "execution_count": 47,
     "metadata": {},
     "output_type": "execute_result"
    }
   ],
   "source": [
    "dataset.shape"
   ]
  },
  {
   "cell_type": "code",
   "execution_count": 28,
   "metadata": {},
   "outputs": [],
   "source": [
    "# processing\n",
    "\n",
    "dataset = dataset.drop_duplicates()\n",
    "dataset = dataset.drop(columns=['urlToImage', 'source.id'], axis=1)\n",
    "dataset.dropna(inplace=True)\n",
    "dataset.rename(columns={\"source.name\": \"source_name\"}, inplace=True)\n",
    "dataset.apply(lambda x: str(x))\n",
    "dataset[\"publishedAt\"] = dataset[\"publishedAt\"].apply(lambda x: x.split(\"T\")[0])\n",
    "dataset[\"author\"] = dataset[\"author\"].apply(lambda x: x.split(\"（\")[0]).dropna()"
   ]
  },
  {
   "cell_type": "code",
   "execution_count": 46,
   "metadata": {},
   "outputs": [],
   "source": [
    "dataset = pd.concat([dataset, org_data], ignore_index=True)"
   ]
  },
  {
   "cell_type": "code",
   "execution_count": 48,
   "metadata": {},
   "outputs": [],
   "source": [
    "dataset.reset_index(drop=False, inplace=True)\n",
    "dataset.rename(columns={\"index\": \"id\"}, inplace=True)"
   ]
  },
  {
   "cell_type": "code",
   "execution_count": 51,
   "metadata": {},
   "outputs": [],
   "source": [
    "dataset.to_csv(\"data/processed_data.csv\")"
   ]
  },
  {
   "cell_type": "code",
   "execution_count": 52,
   "metadata": {},
   "outputs": [],
   "source": [
    "dataset.drop(columns=[\"description\", \"url\", \"content\", \"source_name\"], axis=1, inplace=True)\n",
    "dataset['tags'] = dataset['author'].apply(lambda x: x+\" \") + dataset['title'].apply(lambda x: x+\" \") + dataset['publishedAt']\n",
    "dataset.drop(columns=[\"author\", \"title\", \"publishedAt\"], inplace=True)\n",
    "dataset[\"tags\"] = dataset[\"tags\"].apply(lambda x: x.lower())\n",
    "dataset[\"tags\"] = dataset[\"tags\"].apply(lambda x: x.replace(\"— \", \"\"))\n",
    "dataset[\"tags\"] = dataset[\"tags\"].apply(lambda x: x.replace(\":\", \"\"))"
   ]
  },
  {
   "cell_type": "code",
   "execution_count": 55,
   "metadata": {},
   "outputs": [],
   "source": [
    "dataset.to_csv(\"data/Training.csv\", index=False)"
   ]
  },
  {
   "cell_type": "code",
   "execution_count": 57,
   "metadata": {},
   "outputs": [
    {
     "data": {
      "text/html": [
       "<div>\n",
       "<style scoped>\n",
       "    .dataframe tbody tr th:only-of-type {\n",
       "        vertical-align: middle;\n",
       "    }\n",
       "\n",
       "    .dataframe tbody tr th {\n",
       "        vertical-align: top;\n",
       "    }\n",
       "\n",
       "    .dataframe thead th {\n",
       "        text-align: right;\n",
       "    }\n",
       "</style>\n",
       "<table border=\"1\" class=\"dataframe\">\n",
       "  <thead>\n",
       "    <tr style=\"text-align: right;\">\n",
       "      <th></th>\n",
       "      <th>id</th>\n",
       "      <th>tags</th>\n",
       "    </tr>\n",
       "  </thead>\n",
       "  <tbody>\n",
       "    <tr>\n",
       "      <th>0</th>\n",
       "      <td>0</td>\n",
       "      <td>abduzeedo neon worms colorful illustrations wi...</td>\n",
       "    </tr>\n",
       "    <tr>\n",
       "      <th>1</th>\n",
       "      <td>1</td>\n",
       "      <td>abduzeedo branding for fluxus where coffee mee...</td>\n",
       "    </tr>\n",
       "    <tr>\n",
       "      <th>2</th>\n",
       "      <td>2</td>\n",
       "      <td>abduzeedo branding case submission - belysse 2...</td>\n",
       "    </tr>\n",
       "    <tr>\n",
       "      <th>3</th>\n",
       "      <td>3</td>\n",
       "      <td>abduzeedo monterra sipping on sustainable and ...</td>\n",
       "    </tr>\n",
       "    <tr>\n",
       "      <th>4</th>\n",
       "      <td>4</td>\n",
       "      <td>abduzeedo digitalized - futuristic illustratio...</td>\n",
       "    </tr>\n",
       "  </tbody>\n",
       "</table>\n",
       "</div>"
      ],
      "text/plain": [
       "   id                                               tags\n",
       "0   0  abduzeedo neon worms colorful illustrations wi...\n",
       "1   1  abduzeedo branding for fluxus where coffee mee...\n",
       "2   2  abduzeedo branding case submission - belysse 2...\n",
       "3   3  abduzeedo monterra sipping on sustainable and ...\n",
       "4   4  abduzeedo digitalized - futuristic illustratio..."
      ]
     },
     "execution_count": 57,
     "metadata": {},
     "output_type": "execute_result"
    }
   ],
   "source": [
    "dataset.head()"
   ]
  },
  {
   "cell_type": "code",
   "execution_count": 61,
   "metadata": {},
   "outputs": [],
   "source": [
    "vectorizer  = TfidfVectorizer(stop_words='english')\n",
    "tfidf_matrix = vectorizer.fit_transform(dataset['tags'])"
   ]
  },
  {
   "cell_type": "code",
   "execution_count": 62,
   "metadata": {},
   "outputs": [
    {
     "data": {
      "text/plain": [
       "['model/newsapi_articles_cosinesimilarity.pkl']"
      ]
     },
     "execution_count": 62,
     "metadata": {},
     "output_type": "execute_result"
    }
   ],
   "source": [
    "similarity = cosine_similarity(tfidf_matrix)\n",
    "\n",
    "# save cosine similarity in a model file\n",
    "joblib.dump(similarity, 'model/newsapi_articles_cosinesimilarity.pkl')"
   ]
  }
 ],
 "metadata": {
  "kernelspec": {
   "display_name": "recsys_articles_py38",
   "language": "python",
   "name": "python3"
  },
  "language_info": {
   "codemirror_mode": {
    "name": "ipython",
    "version": 3
   },
   "file_extension": ".py",
   "mimetype": "text/x-python",
   "name": "python",
   "nbconvert_exporter": "python",
   "pygments_lexer": "ipython3",
   "version": "3.8.16"
  },
  "orig_nbformat": 4,
  "vscode": {
   "interpreter": {
    "hash": "f8cf9a2f6ed740e1f7cb7ddc50fbb67ffc26c340ece827f9dc94a229b429bc69"
   }
  }
 },
 "nbformat": 4,
 "nbformat_minor": 2
}
