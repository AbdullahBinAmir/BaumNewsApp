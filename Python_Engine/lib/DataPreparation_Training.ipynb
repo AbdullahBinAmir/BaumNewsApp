{
 "cells": [
  {
   "attachments": {},
   "cell_type": "markdown",
   "metadata": {},
   "source": [
    "# Data Preparation"
   ]
  },
  {
   "cell_type": "code",
   "execution_count": 1,
   "metadata": {},
   "outputs": [],
   "source": [
    "import pandas as pd\n",
    "import numpy as np"
   ]
  },
  {
   "cell_type": "code",
   "execution_count": 2,
   "metadata": {},
   "outputs": [],
   "source": [
    "# reading csv\n",
    "original_dataset = pd.read_csv(\"../data/original_dataset.csv\")"
   ]
  },
  {
   "cell_type": "code",
   "execution_count": 4,
   "metadata": {},
   "outputs": [
    {
     "data": {
      "text/plain": [
       "array(['Neon Worms — colorful illustrations with the Blend Tool in Illustrator',\n",
       "       'Branding for Fluxus: where coffee meets art',\n",
       "       'Branding case submission - BELYSSE', ...,\n",
       "       '自然現象のデジタルツイン化を支援する新たなコンピューターシステム', 'ITとOTの融合による新たなセキュリティリスクと課題',\n",
       "       \"I asked Microsoft's new Bing with ChatGPT about Microsoft and oh, it had opinions\"],\n",
       "      dtype=object)"
      ]
     },
     "execution_count": 4,
     "metadata": {},
     "output_type": "execute_result"
    }
   ],
   "source": [
    "original_dataset['title'].values"
   ]
  },
  {
   "cell_type": "code",
   "execution_count": 95,
   "metadata": {},
   "outputs": [],
   "source": [
    "original_dataset = original_dataset.rename(columns={\"Unnamed: 0\": \"id\"})"
   ]
  },
  {
   "cell_type": "code",
   "execution_count": 96,
   "metadata": {},
   "outputs": [],
   "source": [
    "original_dataset[\"id\"] = original_dataset[\"id\"].apply(lambda x: x+1)"
   ]
  },
  {
   "cell_type": "code",
   "execution_count": 97,
   "metadata": {},
   "outputs": [],
   "source": [
    "# removing two columns\n",
    "original_dataset = original_dataset.drop(columns=[\"urlToImage\", \"source.id\"], axis= 1)"
   ]
  },
  {
   "cell_type": "code",
   "execution_count": 98,
   "metadata": {},
   "outputs": [],
   "source": [
    "original_dataset.dropna(inplace=True)"
   ]
  },
  {
   "cell_type": "code",
   "execution_count": 99,
   "metadata": {},
   "outputs": [],
   "source": [
    "original_dataset.rename(columns={\"source.name\": \"source_name\"}, inplace=True)"
   ]
  },
  {
   "cell_type": "code",
   "execution_count": 100,
   "metadata": {},
   "outputs": [],
   "source": [
    "original_dataset[\"author\"] = original_dataset[\"author\"].apply(lambda x: str(x))\n",
    "original_dataset[\"title\"] = original_dataset[\"title\"].apply(lambda x: str(x))\n",
    "original_dataset[\"description\"] = original_dataset[\"description\"].apply(lambda x: str(x))\n",
    "original_dataset[\"url\"] = original_dataset[\"url\"].apply(lambda x: str(x))\n",
    "original_dataset[\"publishedAt\"] = original_dataset[\"publishedAt\"].apply(lambda x: str(x))\n",
    "original_dataset[\"content\"] = original_dataset[\"content\"].apply(lambda x: str(x))\n",
    "original_dataset[\"source_name\"] = original_dataset[\"source_name\"].apply(lambda x: str(x))"
   ]
  },
  {
   "cell_type": "code",
   "execution_count": 101,
   "metadata": {},
   "outputs": [],
   "source": [
    "original_dataset[\"publishedAt\"] = original_dataset[\"publishedAt\"].apply(lambda x: x.split(\"T\")[0])"
   ]
  },
  {
   "cell_type": "code",
   "execution_count": 105,
   "metadata": {},
   "outputs": [],
   "source": [
    "original_dataset[\"author\"] = original_dataset[\"author\"].apply(lambda x: x.split(\"（\")[0]).dropna()"
   ]
  },
  {
   "cell_type": "code",
   "execution_count": 112,
   "metadata": {},
   "outputs": [],
   "source": [
    "original_dataset.to_csv(\"../data/processed_data.csv\", index=False)"
   ]
  },
  {
   "cell_type": "code",
   "execution_count": 115,
   "metadata": {},
   "outputs": [],
   "source": [
    "original_dataset.drop(columns=[\"description\", \"url\", \"content\", \"source_name\"], axis=1, inplace=True)"
   ]
  },
  {
   "cell_type": "code",
   "execution_count": 121,
   "metadata": {},
   "outputs": [],
   "source": [
    "original_dataset['tags'] = original_dataset['author'].apply(lambda x: x+\" \") + original_dataset['title'].apply(lambda x: x+\" \") + original_dataset['publishedAt']"
   ]
  },
  {
   "cell_type": "code",
   "execution_count": 124,
   "metadata": {},
   "outputs": [],
   "source": [
    "original_dataset.drop(columns=[\"author\", \"title\", \"publishedAt\"], inplace=True)"
   ]
  },
  {
   "cell_type": "code",
   "execution_count": 127,
   "metadata": {},
   "outputs": [],
   "source": [
    "# making it lower case\n",
    "original_dataset[\"tags\"] = original_dataset[\"tags\"].apply(lambda x: x.lower())"
   ]
  },
  {
   "cell_type": "code",
   "execution_count": 131,
   "metadata": {},
   "outputs": [],
   "source": [
    "# removing — sign\n",
    "original_dataset[\"tags\"] = original_dataset[\"tags\"].apply(lambda x: x.replace(\"— \", \"\"))"
   ]
  },
  {
   "cell_type": "code",
   "execution_count": 137,
   "metadata": {},
   "outputs": [],
   "source": [
    "# removing - sign\n",
    "original_dataset[\"tags\"] = original_dataset[\"tags\"].apply(lambda x: x.replace(\":\", \"\"))"
   ]
  },
  {
   "attachments": {},
   "cell_type": "markdown",
   "metadata": {},
   "source": [
    "Threee attibutes are  used to perfrom recommendation\n",
    "1. author\n",
    "2. title\n",
    "3. publishedAt\n",
    "\n",
    "don't have used other columns which are \n",
    "1. description\n",
    "2. url\n",
    "3. content\n",
    "4. source_name\n",
    "5. id "
   ]
  },
  {
   "cell_type": "code",
   "execution_count": 143,
   "metadata": {},
   "outputs": [
    {
     "data": {
      "text/html": [
       "<div>\n",
       "<style scoped>\n",
       "    .dataframe tbody tr th:only-of-type {\n",
       "        vertical-align: middle;\n",
       "    }\n",
       "\n",
       "    .dataframe tbody tr th {\n",
       "        vertical-align: top;\n",
       "    }\n",
       "\n",
       "    .dataframe thead th {\n",
       "        text-align: right;\n",
       "    }\n",
       "</style>\n",
       "<table border=\"1\" class=\"dataframe\">\n",
       "  <thead>\n",
       "    <tr style=\"text-align: right;\">\n",
       "      <th></th>\n",
       "      <th>id</th>\n",
       "      <th>tags</th>\n",
       "    </tr>\n",
       "  </thead>\n",
       "  <tbody>\n",
       "    <tr>\n",
       "      <th>0</th>\n",
       "      <td>1</td>\n",
       "      <td>abduzeedo neon worms colorful illustrations wi...</td>\n",
       "    </tr>\n",
       "    <tr>\n",
       "      <th>1</th>\n",
       "      <td>2</td>\n",
       "      <td>abduzeedo branding for fluxus where coffee mee...</td>\n",
       "    </tr>\n",
       "    <tr>\n",
       "      <th>2</th>\n",
       "      <td>3</td>\n",
       "      <td>abduzeedo branding case submission belysse 202...</td>\n",
       "    </tr>\n",
       "    <tr>\n",
       "      <th>3</th>\n",
       "      <td>4</td>\n",
       "      <td>abduzeedo monterra sipping on sustainable and ...</td>\n",
       "    </tr>\n",
       "    <tr>\n",
       "      <th>4</th>\n",
       "      <td>5</td>\n",
       "      <td>abduzeedo digitalized futuristic illustrations...</td>\n",
       "    </tr>\n",
       "  </tbody>\n",
       "</table>\n",
       "</div>"
      ],
      "text/plain": [
       "   id                                               tags\n",
       "0   1  abduzeedo neon worms colorful illustrations wi...\n",
       "1   2  abduzeedo branding for fluxus where coffee mee...\n",
       "2   3  abduzeedo branding case submission belysse 202...\n",
       "3   4  abduzeedo monterra sipping on sustainable and ...\n",
       "4   5  abduzeedo digitalized futuristic illustrations..."
      ]
     },
     "execution_count": 143,
     "metadata": {},
     "output_type": "execute_result"
    }
   ],
   "source": [
    "original_dataset.head()"
   ]
  },
  {
   "cell_type": "code",
   "execution_count": 146,
   "metadata": {},
   "outputs": [],
   "source": [
    "original_dataset.to_csv(\"../data/Training.csv\", index=False)"
   ]
  },
  {
   "attachments": {},
   "cell_type": "markdown",
   "metadata": {},
   "source": [
    "# Training using TFIDF"
   ]
  },
  {
   "cell_type": "code",
   "execution_count": 7,
   "metadata": {},
   "outputs": [],
   "source": [
    "import pandas as pd\n",
    "import numpy as np\n",
    "from sklearn.feature_extraction.text import TfidfVectorizer\n",
    "from sklearn.metrics.pairwise import cosine_similarity\n",
    "import json\n",
    "from nltk import PorterStemmer\n",
    "import joblib"
   ]
  },
  {
   "cell_type": "code",
   "execution_count": 8,
   "metadata": {},
   "outputs": [],
   "source": [
    "# loading \n",
    "data = pd.read_csv('../data/Training.csv')"
   ]
  },
  {
   "cell_type": "code",
   "execution_count": 9,
   "metadata": {},
   "outputs": [
    {
     "data": {
      "text/html": [
       "<div>\n",
       "<style scoped>\n",
       "    .dataframe tbody tr th:only-of-type {\n",
       "        vertical-align: middle;\n",
       "    }\n",
       "\n",
       "    .dataframe tbody tr th {\n",
       "        vertical-align: top;\n",
       "    }\n",
       "\n",
       "    .dataframe thead th {\n",
       "        text-align: right;\n",
       "    }\n",
       "</style>\n",
       "<table border=\"1\" class=\"dataframe\">\n",
       "  <thead>\n",
       "    <tr style=\"text-align: right;\">\n",
       "      <th></th>\n",
       "      <th>id</th>\n",
       "      <th>tags</th>\n",
       "    </tr>\n",
       "  </thead>\n",
       "  <tbody>\n",
       "    <tr>\n",
       "      <th>0</th>\n",
       "      <td>1</td>\n",
       "      <td>abduzeedo neon worms colorful illustrations wi...</td>\n",
       "    </tr>\n",
       "    <tr>\n",
       "      <th>1</th>\n",
       "      <td>2</td>\n",
       "      <td>abduzeedo branding for fluxus where coffee mee...</td>\n",
       "    </tr>\n",
       "    <tr>\n",
       "      <th>2</th>\n",
       "      <td>3</td>\n",
       "      <td>abduzeedo branding case submission belysse 202...</td>\n",
       "    </tr>\n",
       "    <tr>\n",
       "      <th>3</th>\n",
       "      <td>4</td>\n",
       "      <td>abduzeedo monterra sipping on sustainable and ...</td>\n",
       "    </tr>\n",
       "    <tr>\n",
       "      <th>4</th>\n",
       "      <td>5</td>\n",
       "      <td>abduzeedo digitalized futuristic illustrations...</td>\n",
       "    </tr>\n",
       "  </tbody>\n",
       "</table>\n",
       "</div>"
      ],
      "text/plain": [
       "   id                                               tags\n",
       "0   1  abduzeedo neon worms colorful illustrations wi...\n",
       "1   2  abduzeedo branding for fluxus where coffee mee...\n",
       "2   3  abduzeedo branding case submission belysse 202...\n",
       "3   4  abduzeedo monterra sipping on sustainable and ...\n",
       "4   5  abduzeedo digitalized futuristic illustrations..."
      ]
     },
     "execution_count": 9,
     "metadata": {},
     "output_type": "execute_result"
    }
   ],
   "source": [
    "data.head()"
   ]
  },
  {
   "cell_type": "code",
   "execution_count": 11,
   "metadata": {},
   "outputs": [],
   "source": [
    "vectorizer  = TfidfVectorizer(stop_words='english')\n",
    "tfidf_matrix = vectorizer.fit_transform(data['tags'])\n"
   ]
  },
  {
   "cell_type": "code",
   "execution_count": 13,
   "metadata": {},
   "outputs": [],
   "source": [
    "similarity = cosine_similarity(tfidf_matrix)"
   ]
  },
  {
   "cell_type": "code",
   "execution_count": 14,
   "metadata": {},
   "outputs": [
    {
     "name": "stdout",
     "output_type": "stream",
     "text": [
      "Recommended document: 5\n",
      "Recommended document: 24\n",
      "Recommended document: 43\n",
      "Recommended document: 42\n"
     ]
    }
   ],
   "source": [
    "scores = similarity[0]\n",
    "\n",
    "# Find the top 3 most similar documents\n",
    "top_indices = np.argsort(scores)[::-1][1:5]\n",
    "\n",
    "# Print the recommended documents\n",
    "for i in top_indices:\n",
    "    print(f\"Recommended document: {data['id'].iloc[i]}\")"
   ]
  },
  {
   "cell_type": "code",
   "execution_count": 15,
   "metadata": {},
   "outputs": [
    {
     "data": {
      "text/plain": [
       "['../model/newsapi_articles_cosinesimilarity.pkl']"
      ]
     },
     "execution_count": 15,
     "metadata": {},
     "output_type": "execute_result"
    }
   ],
   "source": [
    "# save cosine similarity in a model file\n",
    "joblib.dump(similarity, '../model/newsapi_articles_cosinesimilarity.pkl')"
   ]
  }
 ],
 "metadata": {
  "kernelspec": {
   "display_name": "recsys_articles_py38",
   "language": "python",
   "name": "python3"
  },
  "language_info": {
   "codemirror_mode": {
    "name": "ipython",
    "version": 3
   },
   "file_extension": ".py",
   "mimetype": "text/x-python",
   "name": "python",
   "nbconvert_exporter": "python",
   "pygments_lexer": "ipython3",
   "version": "3.8.16"
  },
  "orig_nbformat": 4,
  "vscode": {
   "interpreter": {
    "hash": "f8cf9a2f6ed740e1f7cb7ddc50fbb67ffc26c340ece827f9dc94a229b429bc69"
   }
  }
 },
 "nbformat": 4,
 "nbformat_minor": 2
}
